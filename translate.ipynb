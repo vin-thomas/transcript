{
  "nbformat": 4,
  "nbformat_minor": 0,
  "metadata": {
    "colab": {
      "provenance": [],
      "mount_file_id": "1m-LqagFqxFizss0PKOIEPqxN1nr0WarO",
      "authorship_tag": "ABX9TyMPZD4VNS8ZkYsYG5Udk9y5",
      "include_colab_link": true
    },
    "kernelspec": {
      "name": "python3",
      "display_name": "Python 3"
    },
    "language_info": {
      "name": "python"
    }
  },
  "cells": [
    {
      "cell_type": "markdown",
      "metadata": {
        "id": "view-in-github",
        "colab_type": "text"
      },
      "source": [
        "<a href=\"https://colab.research.google.com/github/vin-thomas/transcript/blob/main/translate.ipynb\" target=\"_parent\"><img src=\"https://colab.research.google.com/assets/colab-badge.svg\" alt=\"Open In Colab\"/></a>"
      ]
    },
    {
      "cell_type": "markdown",
      "source": [
        "**INSTALLS AND IMPORTS**"
      ],
      "metadata": {
        "id": "D6L28SQK7QEL"
      }
    },
    {
      "cell_type": "code",
      "source": [
        "import os\n",
        "from apikey import apikey\n",
        "os.environ['OPENAI_API_KEY'] = apikey\n",
        "os.environ['GOOGLE_APPLICATION_CREDENTIALS'] = '/content/drive/MyDrive/Colab Notebooks/Summarization/numeric-chassis-395210-d40d244f717b (3).json'"
      ],
      "metadata": {
        "id": "HVNZLcChiOXh"
      },
      "execution_count": 1,
      "outputs": []
    },
    {
      "cell_type": "code",
      "source": [
        "!pip -q install openai cohere tiktoken"
      ],
      "metadata": {
        "id": "MRo3z68uhyHm",
        "colab": {
          "base_uri": "https://localhost:8080/"
        },
        "outputId": "74157695-3fc3-4421-81f1-520045db153a"
      },
      "execution_count": 3,
      "outputs": [
        {
          "output_type": "stream",
          "name": "stdout",
          "text": [
            "\u001b[2K     \u001b[90m━━━━━━━━━━━━━━━━━━━━━━━━━━━━━━━━━━━━━━━━\u001b[0m \u001b[32m48.9/48.9 kB\u001b[0m \u001b[31m1.4 MB/s\u001b[0m eta \u001b[36m0:00:00\u001b[0m\n",
            "\u001b[2K     \u001b[90m━━━━━━━━━━━━━━━━━━━━━━━━━━━━━━━━━━━━━━━━\u001b[0m \u001b[32m2.0/2.0 MB\u001b[0m \u001b[31m23.2 MB/s\u001b[0m eta \u001b[36m0:00:00\u001b[0m\n",
            "\u001b[2K     \u001b[90m━━━━━━━━━━━━━━━━━━━━━━━━━━━━━━━━━━━━━━━━\u001b[0m \u001b[32m3.1/3.1 MB\u001b[0m \u001b[31m38.5 MB/s\u001b[0m eta \u001b[36m0:00:00\u001b[0m\n",
            "\u001b[?25h"
          ]
        }
      ]
    },
    {
      "cell_type": "code",
      "source": [
        "import openai"
      ],
      "metadata": {
        "id": "HNTFEB2Tzi01"
      },
      "execution_count": 4,
      "outputs": []
    },
    {
      "cell_type": "code",
      "source": [
        "GPT_MODEL = \"gpt-3.5-turbo\""
      ],
      "metadata": {
        "id": "pAtAzHiuwYfM"
      },
      "execution_count": 5,
      "outputs": []
    },
    {
      "cell_type": "code",
      "source": [
        "from openai import OpenAI\n",
        "client = OpenAI()"
      ],
      "metadata": {
        "id": "RawFznKmitiU"
      },
      "execution_count": 6,
      "outputs": []
    },
    {
      "cell_type": "markdown",
      "source": [
        "**EXTRACT TEXT**"
      ],
      "metadata": {
        "id": "T5dCO9_K7brW"
      }
    },
    {
      "cell_type": "code",
      "source": [
        "# Open the file in read mode\n",
        "def text_extraction_txt (path):\n",
        "  with open(path, 'r') as file:\n",
        "    content = file.read()\n",
        "    lines = content.splitlines()\n",
        "    return(lines)"
      ],
      "metadata": {
        "id": "_e0twKd966lo"
      },
      "execution_count": 7,
      "outputs": []
    },
    {
      "cell_type": "markdown",
      "source": [
        "**GENERATE RESPONSE USING LLM AND TRANSLATE**"
      ],
      "metadata": {
        "id": "FCdBsQ668q1B"
      }
    },
    {
      "cell_type": "code",
      "source": [
        "def llm_response(query):\n",
        "\n",
        "  message = f'''Please redraft the following text so than a 10th grader can understand - {query} '''\n",
        "\n",
        "  messages = [\n",
        "      {\"role\": \"system\", \"content\": \"You are an expert at simplifying english text so that even a 10th grader can understand.\"},\n",
        "      {\"role\": \"user\", \"content\": message},\n",
        "    ]\n",
        "\n",
        "  response = client.chat.completions.create(\n",
        "      model= GPT_MODEL,\n",
        "      messages=messages,\n",
        "      temperature=0\n",
        "      )\n",
        "  response = response.choices[0].message.content\n",
        "  return response"
      ],
      "metadata": {
        "id": "AiCqP2ZRuNEG"
      },
      "execution_count": 8,
      "outputs": []
    },
    {
      "cell_type": "code",
      "source": [
        "def translate_text(target: str, text: str):\n",
        "  from google.cloud import translate_v2 as translate\n",
        "  translate_client = translate.Client()\n",
        "\n",
        "  if isinstance(text, bytes):\n",
        "    text = text.decode(\"utf-8\")\n",
        "  result = translate_client.translate(text, target_language=target)\n",
        "  return result"
      ],
      "metadata": {
        "id": "FK2x4ADQ_tOG"
      },
      "execution_count": 11,
      "outputs": []
    },
    {
      "cell_type": "code",
      "source": [
        "def get_translation (path):\n",
        "  lines = text_extraction_txt(path)\n",
        "  output = []\n",
        "  for line in lines:\n",
        "    if len(line)>3:\n",
        "      answer = translate_text('ml', llm_response(line))['translatedText']\n",
        "      output.append(answer)\n",
        "    else:\n",
        "      output.append('\\n\\n')\n",
        "\n",
        "  return (output)"
      ],
      "metadata": {
        "id": "meCxDD8qHT0o"
      },
      "execution_count": 26,
      "outputs": []
    },
    {
      "cell_type": "code",
      "source": [
        "output_txt = get_translation('/content/HEROMOTOCO (1).txt')"
      ],
      "metadata": {
        "id": "o13LRupo0tZS"
      },
      "execution_count": 27,
      "outputs": []
    },
    {
      "cell_type": "code",
      "source": [
        "def write_txt (sent_list, file_path):\n",
        "  concatenated_text = ' '.join(sent_list)\n",
        "  with open(file_path, 'w', encoding='utf-8') as file:\n",
        "    file.write(concatenated_text)\n",
        "\n",
        "  print(f'Successfully wrote concatenated text to {file_path}')\n"
      ],
      "metadata": {
        "id": "DaLomivRMhW2"
      },
      "execution_count": 30,
      "outputs": []
    },
    {
      "cell_type": "code",
      "source": [
        "write_txt (output_txt, 'output.txt')"
      ],
      "metadata": {
        "colab": {
          "base_uri": "https://localhost:8080/"
        },
        "id": "pgn1hz_5zCaS",
        "outputId": "31c1a71b-423a-4b27-ff96-477cf4c51744"
      },
      "execution_count": 31,
      "outputs": [
        {
          "output_type": "stream",
          "name": "stdout",
          "text": [
            "Successfully wrote concatenated text to output.txt\n"
          ]
        }
      ]
    }
  ]
}