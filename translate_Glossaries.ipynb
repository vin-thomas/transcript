{
  "nbformat": 4,
  "nbformat_minor": 0,
  "metadata": {
    "colab": {
      "provenance": []
    },
    "kernelspec": {
      "name": "python3",
      "display_name": "Python 3"
    },
    "language_info": {
      "name": "python"
    }
  },
  "cells": [
    {
      "cell_type": "markdown",
      "source": [
        "### Specifying Glossary"
      ],
      "metadata": {
        "id": "dXe0aGlcjZS3"
      }
    },
    {
      "cell_type": "code",
      "execution_count": null,
      "metadata": {
        "id": "10FWnO6rn38d"
      },
      "outputs": [],
      "source": [
        "from google.cloud import translate_v3 as translate\n",
        "\n",
        "\n",
        "def create_glossary(\n",
        "    project_id: str = \"numeric-chassis-395210\",\n",
        "    input_uri: str = \"gs://mal_trans_glossary/glossary.csv\",\n",
        "    glossary_id: str = \"mal-eng-glossary\",\n",
        "    timeout: int = 180,\n",
        ") -> translate.Glossary:\n",
        "    \"\"\"\n",
        "    Create a equivalent term sets glossary. Glossary can be words or\n",
        "    short phrases (usually fewer than five words).\n",
        "    https://cloud.google.com/translate/docs/advanced/glossary#format-glossary\n",
        "    \"\"\"\n",
        "    client = translate.TranslationServiceClient()\n",
        "\n",
        "    # Supported language codes: https://cloud.google.com/translate/docs/languages\n",
        "    source_lang_code = \"ml\"\n",
        "    target_lang_code = \"en\"\n",
        "    location = \"us-central1\"  # The location of the glossary\n",
        "\n",
        "    name = client.glossary_path(project_id, location, glossary_id)\n",
        "    language_codes_set = translate.types.Glossary.LanguageCodesSet(language_codes=[source_lang_code, target_lang_code])\n",
        "    # language_codes_pair = translate.Glossary.LanguageCodePair()\n",
        "    # language_codes_pair.source_language_code = 'ml'\n",
        "    # language_codes_pair.target_language_code = 'en'\n",
        "\n",
        "    gcs_source = translate.types.GcsSource(input_uri=input_uri)\n",
        "\n",
        "    input_config = translate.types.GlossaryInputConfig(gcs_source=gcs_source)\n",
        "\n",
        "    glossary = translate.types.Glossary(\n",
        "        name=name, language_codes_set=language_codes_set, input_config=input_config\n",
        "    )\n",
        "\n",
        "    parent = f\"projects/{project_id}/locations/{location}\"\n",
        "    # glossary is a custom dictionary Translation API uses\n",
        "    # to translate the domain-specific terminology.\n",
        "    operation = client.create_glossary(parent=parent, glossary=glossary)\n",
        "\n",
        "    result = operation.result(timeout)\n",
        "    print(f\"Created: {result.name}\")\n",
        "    print(f\"Input Uri: {result.input_config.gcs_source.input_uri}\")\n",
        "\n",
        "    return result\n"
      ]
    },
    {
      "cell_type": "code",
      "execution_count": null,
      "metadata": {
        "colab": {
          "base_uri": "https://localhost:8080/"
        },
        "id": "J_11-hjkp6KD",
        "outputId": "82855458-5c08-434a-d6ea-12bb54850e73"
      },
      "outputs": [
        {
          "output_type": "stream",
          "name": "stdout",
          "text": [
            "Created: projects/129500516432/locations/us-central1/glossaries/mal-eng-glossary\n",
            "Input Uri: gs://mal_trans_glossary/glossary.csv\n"
          ]
        }
      ],
      "source": [
        "result = create_glossary()"
      ]
    },
    {
      "cell_type": "markdown",
      "metadata": {
        "id": "vjZtcJR_kaz-"
      },
      "source": [
        "## Deleting the glossary"
      ]
    },
    {
      "cell_type": "code",
      "execution_count": null,
      "metadata": {
        "id": "nWFldp90kaUU"
      },
      "outputs": [],
      "source": [
        "from google.cloud import translate_v3 as translate\n",
        "\n",
        "\n",
        "def delete_glossary(\n",
        "    project_id: str = \"numeric-chassis-395210\",\n",
        "    glossary_id: str = \"YOUR_GLOSSARY_ID\",\n",
        "    timeout: int = 180,\n",
        ") -> translate.Glossary:\n",
        "    \"\"\"Delete a specific glossary based on the glossary ID.\n",
        "\n",
        "    Args:\n",
        "        project_id: The ID of the GCP project that owns the glossary.\n",
        "        glossary_id: The ID of the glossary to delete.\n",
        "        timeout: The timeout for this request.\n",
        "\n",
        "    Returns:\n",
        "        The glossary that was deleted.\n",
        "    \"\"\"\n",
        "    client = translate.TranslationServiceClient()\n",
        "\n",
        "    name = client.glossary_path(project_id, \"us-central1\", glossary_id)\n",
        "\n",
        "    operation = client.delete_glossary(name=name)\n",
        "    result = operation.result(timeout)\n",
        "    print(f\"Deleted: {result.name}\")\n",
        "\n",
        "    return result"
      ]
    },
    {
      "cell_type": "code",
      "execution_count": null,
      "metadata": {
        "colab": {
          "base_uri": "https://localhost:8080/"
        },
        "id": "Jg47pftQkhnL",
        "outputId": "24cb480b-5dc8-438e-b3c7-493ba375f8eb"
      },
      "outputs": [
        {
          "output_type": "stream",
          "name": "stdout",
          "text": [
            "Deleted: projects/129500516432/locations/us-central1/glossaries/mal-eng-glossary\n",
            "name: \"projects/129500516432/locations/us-central1/glossaries/mal-eng-glossary\"\n",
            "submit_time {\n",
            "  seconds: 1696587629\n",
            "  nanos: 906891030\n",
            "}\n",
            "end_time {\n",
            "  seconds: 1696587630\n",
            "  nanos: 28205086\n",
            "}\n",
            "\n"
          ]
        }
      ],
      "source": [
        "result = delete_glossary(glossary_id=\"mal-eng-glossary\")\n",
        "print(result)"
      ]
    },
    {
      "cell_type": "markdown",
      "metadata": {
        "id": "ADUW12nyqGZB"
      },
      "source": [
        "## Translate"
      ]
    },
    {
      "cell_type": "code",
      "execution_count": null,
      "metadata": {
        "id": "Fc-u-23zptf_"
      },
      "outputs": [],
      "source": [
        "# from google.cloud import translate_v3 as translate\n",
        "\n",
        "\n",
        "def translate_text_with_glossary(\n",
        "    text: str = \"YOUR_TEXT_TO_TRANSLATE\",\n",
        "    project_id: str = \"numeric-chassis-395210\",\n",
        "    glossary_id: str = \"mal-eng-glossary\",\n",
        ") -> translate.TranslateTextResponse:\n",
        "    \"\"\"Translates a given text using a glossary.\n",
        "\n",
        "    Args:\n",
        "        text: The text to translate.\n",
        "        project_id: The ID of the GCP project that owns the glossary.\n",
        "        glossary_id: The ID of the glossary to use.\n",
        "\n",
        "    Returns:\n",
        "        The translated text.\"\"\"\n",
        "    client = translate.TranslationServiceClient()\n",
        "    location = \"us-central1\"\n",
        "    parent = f\"projects/{project_id}/locations/{location}\"\n",
        "\n",
        "    glossary = client.glossary_path(\n",
        "        project_id, \"us-central1\", glossary_id  # The location of the glossary\n",
        "    )\n",
        "\n",
        "    glossary_config = translate.TranslateTextGlossaryConfig(glossary=glossary)\n",
        "\n",
        "    # Supported language codes: https://cloud.google.com/translate/docs/languages\n",
        "    response = client.translate_text(\n",
        "        request={\n",
        "            \"contents\": [text],\n",
        "            \"target_language_code\": \"en\",\n",
        "            \"source_language_code\": \"ml\",\n",
        "            \"parent\": parent,\n",
        "            \"glossary_config\": glossary_config,\n",
        "        }\n",
        "    )\n",
        "\n",
        "    print(\"Translated text: \\n\")\n",
        "    for translation in response.glossary_translations:\n",
        "        print(f\"\\t {translation.translated_text}\")\n",
        "\n",
        "    return translation.translated_text # return response.glossary_translations"
      ]
    },
    {
      "cell_type": "code",
      "source": [
        "res = translate_text_with_glossary(text='''പട്ടികയിലെ വഹകൾ ചാർജ്ജായി യാതൊരു വിധ കടബാധ്യതകളും കോർട്ട് ജപ്തി മുതലായ ബാദ്ധ്യതകളും നികുതി ബാക്കിയും ഇല്ല.''')\n",
        "# print(res)"
      ],
      "metadata": {
        "colab": {
          "base_uri": "https://localhost:8080/"
        },
        "id": "NC5xGVeHfeF-",
        "outputId": "6b5cd66c-6bd5-4c3d-d05b-02ad1deb6ec6"
      },
      "execution_count": null,
      "outputs": [
        {
          "output_type": "stream",
          "name": "stdout",
          "text": [
            "Translated text: \n",
            "\n",
            "\t There are no debts, court foreclosures etc. and tax arrears against the listed properties.\n"
          ]
        }
      ]
    }
  ]
}